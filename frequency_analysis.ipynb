{
 "cells": [
  {
   "cell_type": "code",
   "execution_count": 41,
   "id": "speaking-powder",
   "metadata": {},
   "outputs": [
    {
     "data": {
      "text/plain": [
       "'asdweeuaaaññaeossssoepentaoexñ'"
      ]
     },
     "execution_count": 41,
     "metadata": {},
     "output_type": "execute_result"
    }
   ],
   "source": [
    "import unicodedata\n",
    "from unidecode import unidecode\n",
    "\n",
    "string = \"ASD |  wee\\t  \\nü^--`aàáÑñ ~æ€ø ßßœ p&##\\\" então exÑ\"\n",
    "\n",
    "\n",
    "def normalize(string):\n",
    "            # el if else de la primera linea normaliza à,ã,ß,œ... pero mantiene la ñ\n",
    "    return ''.join(unidecode(ch) if ch != 'ñ' else ch\n",
    "                   # caracteres alfabeticos: quito espacios, puntos... y dejo ß, œ, ñ, á...\n",
    "                   for ch in (unicodedata.normalize('NFKC', string)).lower() if ch.isalpha())\n",
    "\n",
    "normalize(string)"
   ]
  }
 ],
 "metadata": {
  "kernelspec": {
   "display_name": "SageMath 9.2",
   "language": "sage",
   "name": "sagemath"
  },
  "language_info": {
   "codemirror_mode": {
    "name": "ipython",
    "version": 3
   },
   "file_extension": ".py",
   "mimetype": "text/x-python",
   "name": "python",
   "nbconvert_exporter": "python",
   "pygments_lexer": "ipython3",
   "version": "3.9.7"
  }
 },
 "nbformat": 4,
 "nbformat_minor": 5
}
