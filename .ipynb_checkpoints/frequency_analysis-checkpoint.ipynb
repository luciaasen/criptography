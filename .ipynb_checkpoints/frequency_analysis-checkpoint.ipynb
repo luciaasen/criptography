{
 "cells": [
  {
   "cell_type": "code",
   "execution_count": 18,
   "id": "speaking-powder",
   "metadata": {},
   "outputs": [
    {
     "ename": "ModuleNotFoundError",
     "evalue": "No module named 'unidecode'",
     "output_type": "error",
     "traceback": [
      "\u001b[0;31m---------------------------------------------------------------------------\u001b[0m",
      "\u001b[0;31mModuleNotFoundError\u001b[0m                       Traceback (most recent call last)",
      "\u001b[0;32m<ipython-input-18-118141843485>\u001b[0m in \u001b[0;36m<module>\u001b[0;34m\u001b[0m\n\u001b[1;32m      1\u001b[0m \u001b[0;31m# esto no separa las vocales tipo œ pero al menos es elegante y solo recorro la string una vez\u001b[0m\u001b[0;34m\u001b[0m\u001b[0;34m\u001b[0m\u001b[0m\n\u001b[1;32m      2\u001b[0m \u001b[0;32mimport\u001b[0m \u001b[0municodedata\u001b[0m\u001b[0;34m\u001b[0m\u001b[0;34m\u001b[0m\u001b[0m\n\u001b[0;32m----> 3\u001b[0;31m \u001b[0;32mfrom\u001b[0m \u001b[0munidecode\u001b[0m \u001b[0;32mimport\u001b[0m \u001b[0munidecode\u001b[0m\u001b[0;34m\u001b[0m\u001b[0;34m\u001b[0m\u001b[0m\n\u001b[0m\u001b[1;32m      4\u001b[0m \u001b[0;31m# normalize NFKD separa los caracteres raros (p.ej à --> `a, ñ --> ~n)\u001b[0m\u001b[0;34m\u001b[0m\u001b[0;34m\u001b[0m\u001b[0m\n\u001b[1;32m      5\u001b[0m ''.join(ch.lower() for ch in unicodedata.normalize('NFKD', string)\n",
      "\u001b[0;31mModuleNotFoundError\u001b[0m: No module named 'unidecode'"
     ]
    }
   ],
   "source": [
    "# esto no separa las vocales tipo œ pero al menos es elegante y solo recorro la string una vez\n",
    "import unicodedata\n",
    "from unidecode import unidecode\n",
    "# normalize NFKD separa los caracteres raros (p.ej à --> `a, ñ --> ~n)\n",
    "''.join(ch.lower() for ch in unicodedata.normalize('NFKD', string)\n",
    "                   # me quedo con los caracteres alfabeticos (sin numeros, espacios, puntos, tildes...)\n",
    "                   # y con el unicode que corresponde a la ~ de la ñ, que es el U+0303\n",
    "                   if (ch.isalpha() or ch == u'\\u0303' ))\n",
    "\n",
    "''.join(ch.lower() for ch in unicodedata.normalize('NFKD', string)\n",
    "                   # me quedo con los caracteres alfabeticos (sin numeros, espacios, puntos, tildes...)\n",
    "                   # y con el unicode que corresponde a la ~ de la ñ, que es el U+0303\n",
    "                   if (ch.isalpha() or ch == u'\\u0303' ))\n",
    "unidecode(\"œ\")"
   ]
  }
 ],
 "metadata": {
  "kernelspec": {
   "display_name": "SageMath 9.2",
   "language": "sage",
   "name": "sagemath"
  },
  "language_info": {
   "codemirror_mode": {
    "name": "ipython",
    "version": 3
   },
   "file_extension": ".py",
   "mimetype": "text/x-python",
   "name": "python",
   "nbconvert_exporter": "python",
   "pygments_lexer": "ipython3",
   "version": "3.9.7"
  }
 },
 "nbformat": 4,
 "nbformat_minor": 5
}
